{
 "cells": [
  {
   "cell_type": "markdown",
   "metadata": {},
   "source": [
    "# PHASE 1: Fine-tuning VGG\n",
    "This file contains code to 1) fine-tune the last layers of the pretrained network to make it emotion relevant. 2) To evaluate the fine-tuning process. We perform fine-tuning as the pretrained network is trained on a face recognition dataset so we preserve most of the layers but update the weights for only the last few dense layers to customize it to an emotion recognition task. FER2013 is a static emotion dataset used for fine-tuning. After fine-tuning you could classify emotions directly frame by frame even on a video dataset, but we wanted to model it as a video sequence classification. This custom CNN network will then be used to extract features (before it is fed to RNN) for our main video-dataset: Enterface. "
   ]
  },
  {
   "cell_type": "code",
   "execution_count": 9,
   "metadata": {},
   "outputs": [],
   "source": [
    "#Do this method to extract files! \n",
    "import zipfile36 as zipfile \n",
    "from zipfile import ZipFile\n",
    "\n",
    "#filename = \"Data_FER.zip\"\n",
    "filename = \"Data_FER_6classes.zip\"\n",
    "with ZipFile(filename,'r') as zip:\n",
    "    zip.extractall(path= \"FERdataset\")"
   ]
  },
  {
   "cell_type": "code",
   "execution_count": 14,
   "metadata": {},
   "outputs": [],
   "source": [
    "import tensorflow as tf\n",
    "from tensorflow.keras.preprocessing.image import ImageDataGenerator\n",
    "from keras.engine import  Model\n",
    "from keras.layers import Flatten, Dense, Input, Dropout, BatchNormalization\n",
    "from keras_vggface.vggface import VGGFace\n",
    "import cv2\n",
    "import numpy as np\n",
    "import matplotlib as plt\n",
    "import dlib\n",
    "import pandas as pd"
   ]
  },
  {
   "cell_type": "code",
   "execution_count": 6,
   "metadata": {},
   "outputs": [
    {
     "name": "stdout",
     "output_type": "stream",
     "text": [
      "Found 23744 images belonging to 6 classes.\n",
      "Found 2982 images belonging to 6 classes.\n"
     ]
    }
   ],
   "source": [
    "import keras\n",
    "from keras.preprocessing import image\n",
    "from keras_vggface.vggface import VGGFace\n",
    "from keras_vggface import utils\n",
    "from numpy import asarray\n",
    "from PIL import Image\n",
    "\n",
    "# img = image.load_img('../image/ajb.jpg', target_size=(224, 224))\n",
    "# x = image.img_to_array(img)\n",
    "# x = np.expand_dims(x, axis=0)\n",
    "# x = utils.preprocess_input(x, version=1) # or version=2\n",
    "# preds = model.predict(x)\n",
    "\n",
    "detector = dlib.get_frontal_face_detector()\n",
    "\n",
    "def preprocess_function(x):\n",
    "    x = image.img_to_array(x)\n",
    "    #x = face_detection(x)\n",
    "    x = np.expand_dims(x, axis=0)  \n",
    "    x = utils.preprocess_input(x, version=1)\n",
    "    return x\n",
    "\n",
    "def face_detection(img):\n",
    "    faces = detector(img)\n",
    "    for face in faces:\n",
    "        x1 = face.left()\n",
    "        y1 = face.top()\n",
    "        x2 = face.right()\n",
    "        y2 = face.bottom()\n",
    "        img = img[y1:y2, x1:x2]\n",
    "        return img\n",
    "    \n",
    "\n",
    "train_datagen = ImageDataGenerator(shear_range=0.2,\n",
    "        zoom_range=0.2,\n",
    "        horizontal_flip=True,\n",
    "        preprocessing_function = preprocess_function)\n",
    "        #rescale=1./255,\n",
    "        #shear_range=0.2,\n",
    "        #zoom_range=0.2,\n",
    "        #horizontal_flip=True\n",
    "\n",
    "test_datagen = ImageDataGenerator(preprocessing_function = preprocess_function)\n",
    "\n",
    "\n",
    "#training_path = \"FERdataset/Data_FER/Training\"\n",
    "training_path = \"FERdataset/Data_FER_6classes/Training\"\n",
    "train_generator = train_datagen.flow_from_directory(\n",
    "    directory= training_path,\n",
    "    target_size=(224, 224),\n",
    "    color_mode=\"rgb\",\n",
    "    batch_size=64,\n",
    "    class_mode=\"categorical\",\n",
    "    shuffle=True,\n",
    "    seed=42)\n",
    "\n",
    "#validation_path = \"/content/drive/My Drive/\"+my_dir+\"/Data_FER/PublicTest\"\n",
    "#validation_path = \"FERdataset/Data_FER/PublicTest\"\n",
    "validation_path = \"FERdataset/Data_FER_6classes/PublicTest\"\n",
    "\n",
    "valid_generator = test_datagen.flow_from_directory(\n",
    "    directory= validation_path,\n",
    "    target_size=(224, 224),\n",
    "    color_mode=\"rgb\",\n",
    "    batch_size=64,\n",
    "    class_mode=\"categorical\",\n",
    "    shuffle=True,\n",
    "    seed=42)\n"
   ]
  },
  {
   "cell_type": "code",
   "execution_count": 3,
   "metadata": {},
   "outputs": [
    {
     "name": "stdout",
     "output_type": "stream",
     "text": [
      "[[[ -48.594     -59.762398  -84.186295]\n",
      "  [ -48.594     -59.762398  -84.186295]\n",
      "  [ -48.594     -59.762398  -84.186295]\n",
      "  ...\n",
      "  [ -73.33697   -84.50536  -108.92926 ]\n",
      "  [ -73.33446   -84.50285  -108.92675 ]\n",
      "  [ -73.33194   -84.500336 -108.92423 ]]\n",
      "\n",
      " [[ -48.594     -59.762398  -84.186295]\n",
      "  [ -48.594     -59.762398  -84.186295]\n",
      "  [ -48.594     -59.762398  -84.186295]\n",
      "  ...\n",
      "  [ -75.594     -86.7624   -111.186295]\n",
      "  [ -75.594     -86.7624   -111.186295]\n",
      "  [ -75.594     -86.7624   -111.186295]]\n",
      "\n",
      " [[ -48.594     -59.762398  -84.186295]\n",
      "  [ -48.594     -59.762398  -84.186295]\n",
      "  [ -48.594     -59.762398  -84.186295]\n",
      "  ...\n",
      "  [ -75.594     -86.7624   -111.186295]\n",
      "  [ -75.594     -86.7624   -111.186295]\n",
      "  [ -75.594     -86.7624   -111.186295]]\n",
      "\n",
      " ...\n",
      "\n",
      " [[ -21.594002  -32.762398  -57.186295]\n",
      "  [ -21.594002  -32.762398  -57.186295]\n",
      "  [ -21.594002  -32.762398  -57.186295]\n",
      "  ...\n",
      "  [  74.406      63.237602   38.813705]\n",
      "  [  74.406      63.237602   38.813705]\n",
      "  [  74.406      63.237602   38.813705]]\n",
      "\n",
      " [[ -21.594002  -32.762398  -57.186295]\n",
      "  [ -21.594002  -32.762398  -57.186295]\n",
      "  [ -21.594002  -32.762398  -57.186295]\n",
      "  ...\n",
      "  [  77.33651    66.16811    41.744217]\n",
      "  [  77.32142    66.15302    41.729126]\n",
      "  [  77.30634    66.13795    41.71405 ]]\n",
      "\n",
      " [[ -21.594002  -32.762398  -57.186295]\n",
      "  [ -21.594002  -32.762398  -57.186295]\n",
      "  [ -21.594002  -32.762398  -57.186295]\n",
      "  ...\n",
      "  [  91.76206    80.593666   56.16977 ]\n",
      "  [  91.74699    80.57859    56.154694]\n",
      "  [  91.731895   80.5635     56.139603]]]\n",
      "(224, 224, 3)\n",
      "(64, 6)\n"
     ]
    }
   ],
   "source": [
    "import matplotlib.pyplot as plt\n",
    "x,y = train_generator.next()\n",
    "print(x[0])\n",
    "print(x[0].shape)\n",
    "print(y.shape)\n",
    "# for i in range(0,1):\n",
    "#     #image = x[i]\n",
    "#     image = x[i]\n",
    "#     print(np.shape(image))\n",
    "#     plt.figure(figsize=(10,10))\n",
    "#     plt.imshow(image)"
   ]
  },
  {
   "cell_type": "code",
   "execution_count": 4,
   "metadata": {},
   "outputs": [
    {
     "name": "stderr",
     "output_type": "stream",
     "text": [
      "Clipping input data to the valid range for imshow with RGB data ([0..1] for floats or [0..255] for integers).\n"
     ]
    },
    {
     "data": {
      "text/plain": [
       "<matplotlib.image.AxesImage at 0x7f13ee3d6a90>"
      ]
     },
     "execution_count": 4,
     "metadata": {},
     "output_type": "execute_result"
    },
    {
     "data": {
      "image/png": "[encoded data removed]",
      "text/plain": [
       "<Figure size 432x288 with 1 Axes>"
      ]
     },
     "metadata": {
      "needs_background": "light"
     },
     "output_type": "display_data"
    }
   ],
   "source": [
    "#plt.imshow(x[0]/255)\n",
    "plt.imshow(x[53]/255, cmap=\"gray\")"
   ]
  },
  {
   "cell_type": "code",
   "execution_count": 5,
   "metadata": {},
   "outputs": [
    {
     "name": "stdout",
     "output_type": "stream",
     "text": [
      "WARNING:tensorflow:From /home/ecbm4040/miniconda3/envs/envTF113/lib/python3.6/site-packages/tensorflow/python/ops/resource_variable_ops.py:435: colocate_with (from tensorflow.python.framework.ops) is deprecated and will be removed in a future version.\n",
      "Instructions for updating:\n",
      "Colocations handled automatically by placer.\n",
      "Model: \"model_1\"\n",
      "_________________________________________________________________\n",
      "Layer (type)                 Output Shape              Param #   \n",
      "=================================================================\n",
      "input_1 (InputLayer)         (None, 224, 224, 3)       0         \n",
      "_________________________________________________________________\n",
      "conv1_1 (Conv2D)             (None, 224, 224, 64)      1792      \n",
      "_________________________________________________________________\n",
      "conv1_2 (Conv2D)             (None, 224, 224, 64)      36928     \n",
      "_________________________________________________________________\n",
      "pool1 (MaxPooling2D)         (None, 112, 112, 64)      0         \n",
      "_________________________________________________________________\n",
      "conv2_1 (Conv2D)             (None, 112, 112, 128)     73856     \n",
      "_________________________________________________________________\n",
      "conv2_2 (Conv2D)             (None, 112, 112, 128)     147584    \n",
      "_________________________________________________________________\n",
      "pool2 (MaxPooling2D)         (None, 56, 56, 128)       0         \n",
      "_________________________________________________________________\n",
      "conv3_1 (Conv2D)             (None, 56, 56, 256)       295168    \n",
      "_________________________________________________________________\n",
      "conv3_2 (Conv2D)             (None, 56, 56, 256)       590080    \n",
      "_________________________________________________________________\n",
      "conv3_3 (Conv2D)             (None, 56, 56, 256)       590080    \n",
      "_________________________________________________________________\n",
      "pool3 (MaxPooling2D)         (None, 28, 28, 256)       0         \n",
      "_________________________________________________________________\n",
      "conv4_1 (Conv2D)             (None, 28, 28, 512)       1180160   \n",
      "_________________________________________________________________\n",
      "conv4_2 (Conv2D)             (None, 28, 28, 512)       2359808   \n",
      "_________________________________________________________________\n",
      "conv4_3 (Conv2D)             (None, 28, 28, 512)       2359808   \n",
      "_________________________________________________________________\n",
      "pool4 (MaxPooling2D)         (None, 14, 14, 512)       0         \n",
      "_________________________________________________________________\n",
      "conv5_1 (Conv2D)             (None, 14, 14, 512)       2359808   \n",
      "_________________________________________________________________\n",
      "conv5_2 (Conv2D)             (None, 14, 14, 512)       2359808   \n",
      "_________________________________________________________________\n",
      "conv5_3 (Conv2D)             (None, 14, 14, 512)       2359808   \n",
      "_________________________________________________________________\n",
      "pool5 (MaxPooling2D)         (None, 7, 7, 512)         0         \n",
      "_________________________________________________________________\n",
      "flatten (Flatten)            (None, 25088)             0         \n",
      "_________________________________________________________________\n",
      "fc6 (Dense)                  (None, 4096)              102764544 \n",
      "_________________________________________________________________\n",
      "batch_normalization_1 (Batch (None, 4096)              16384     \n",
      "_________________________________________________________________\n",
      "dropout_1 (Dropout)          (None, 4096)              0         \n",
      "_________________________________________________________________\n",
      "fc7 (Dense)                  (None, 2048)              8390656   \n",
      "_________________________________________________________________\n",
      "batch_normalization_2 (Batch (None, 2048)              8192      \n",
      "_________________________________________________________________\n",
      "dropout_2 (Dropout)          (None, 2048)              0         \n",
      "_________________________________________________________________\n",
      "fc8 (Dense)                  (None, 6)                 12294     \n",
      "=================================================================\n",
      "Total params: 125,906,758\n",
      "Trainable params: 8,415,238\n",
      "Non-trainable params: 117,491,520\n",
      "_________________________________________________________________\n",
      "<keras.engine.input_layer.InputLayer object at 0x7f13ee34c0b8>: False\n",
      "<keras.layers.convolutional.Conv2D object at 0x7f13ee34c160>: False\n",
      "<keras.layers.convolutional.Conv2D object at 0x7f13ee34ce48>: False\n",
      "<keras.layers.pooling.MaxPooling2D object at 0x7f13ee089438>: False\n",
      "<keras.layers.convolutional.Conv2D object at 0x7f13ee089518>: False\n",
      "<keras.layers.convolutional.Conv2D object at 0x7f13ee0402b0>: False\n",
      "<keras.layers.pooling.MaxPooling2D object at 0x7f13ee05acf8>: False\n",
      "<keras.layers.convolutional.Conv2D object at 0x7f13ee05a978>: False\n",
      "<keras.layers.convolutional.Conv2D object at 0x7f13edfab278>: False\n",
      "<keras.layers.convolutional.Conv2D object at 0x7f13edfc4390>: False\n",
      "<keras.layers.pooling.MaxPooling2D object at 0x7f13edf79390>: False\n",
      "<keras.layers.convolutional.Conv2D object at 0x7f13edf795c0>: False\n",
      "<keras.layers.convolutional.Conv2D object at 0x7f13edf2e668>: False\n",
      "<keras.layers.convolutional.Conv2D object at 0x7f13edf4b4a8>: False\n",
      "<keras.layers.pooling.MaxPooling2D object at 0x7f13edefe4e0>: False\n",
      "<keras.layers.convolutional.Conv2D object at 0x7f13edefe908>: False\n",
      "<keras.layers.convolutional.Conv2D object at 0x7f13edeb6748>: False\n",
      "<keras.layers.convolutional.Conv2D object at 0x7f13edee7390>: False\n",
      "<keras.layers.pooling.MaxPooling2D object at 0x7f13edea02e8>: False\n",
      "<keras.layers.core.Flatten object at 0x7f13ee34c2e8>: False\n",
      "<keras.layers.core.Dense object at 0x7f13ee34c320>: False\n",
      "<keras.layers.normalization.BatchNormalization object at 0x7f13ede3a6a0>: True\n",
      "<keras.layers.core.Dropout object at 0x7f13edd2d630>: True\n",
      "<keras.layers.core.Dense object at 0x7f13edd2def0>: True\n",
      "<keras.layers.normalization.BatchNormalization object at 0x7f13edd0c710>: True\n",
      "<keras.layers.core.Dropout object at 0x7f13edd47e10>: True\n",
      "<keras.layers.core.Dense object at 0x7f13edc95ba8>: True\n"
     ]
    }
   ],
   "source": [
    "nb_class = 6\n",
    "vgg_model = VGGFace(include_top=False, input_shape=(224, 224, 3))\n",
    "last_layer = vgg_model.get_layer('pool5').output\n",
    "x = Flatten(name='flatten')(last_layer)\n",
    "#x = Dense(hidden_dim, activation='relu', name='fc6')(x)\n",
    "x = Dense(4096, activation='relu', name='fc6')(x)\n",
    "x = BatchNormalization()(x)\n",
    "x = Dropout(0.2)(x)\n",
    "x = Dense(2048, activation = 'relu', name = 'fc7')(x)\n",
    "x = BatchNormalization()(x)\n",
    "x = Dropout(0.2)(x)\n",
    "#x = Dense(hidden_dim, activation='relu', name='fc7')(x)\n",
    "out = Dense(nb_class, activation='softmax', name='fc8')(x)\n",
    "custom_vgg_model = Model(inputs = vgg_model.input, outputs = out)\n",
    "\n",
    "layer_count = 0\n",
    "for layer in custom_vgg_model.layers:\n",
    "    layer_count = layer_count+1\n",
    "for l in range(layer_count-6): #-3\n",
    "    custom_vgg_model.layers[l].trainable=False\n",
    "\n",
    "custom_vgg_model.summary()\n",
    "\n",
    "for layer in custom_vgg_model.layers:\n",
    "    print(\"{}: {}\".format(layer, layer.trainable))\n",
    " \n",
    "custom_vgg_model.compile(optimizer='Adam',loss='categorical_crossentropy',metrics=['accuracy'])"
   ]
  },
  {
   "cell_type": "code",
   "execution_count": 6,
   "metadata": {},
   "outputs": [],
   "source": [
    "from tensorflow.keras.layers import Dense,GlobalAveragePooling2D,Conv2D,MaxPooling2D,Flatten,Dropout,BatchNormalization\n",
    "from tensorflow.keras.applications import MobileNet\n",
    "from tensorflow.keras.preprocessing import image\n",
    "from tensorflow.keras.applications.mobilenet import preprocess_input\n",
    "from tensorflow.keras.preprocessing.image import ImageDataGenerator\n",
    "from tensorflow.keras.models import Model\n",
    "from tensorflow.keras.optimizers import Adam\n",
    "from keras.callbacks import EarlyStopping\n",
    "from tensorflow import keras\n",
    "#from utils.cifar_utils import load_data\n",
    "\n",
    "\n",
    "epc = 15 #number of epoches\n",
    "#train_datagen=ImageDataGenerator(preprocessing_function=preprocess_input) #included in our dependencies\n",
    "#train_generator = train_datagen.flow(X_train, Y_train, batch_size=bs)\n",
    "step_size_train=train_generator.n//train_generator.batch_size\n",
    "step_size_valid = valid_generator.n//valid_generator.batch_size\n"
   ]
  },
  {
   "cell_type": "code",
   "execution_count": 7,
   "metadata": {},
   "outputs": [
    {
     "name": "stdout",
     "output_type": "stream",
     "text": [
      "WARNING:tensorflow:From /home/ecbm4040/miniconda3/envs/envTF113/lib/python3.6/site-packages/tensorflow/python/ops/math_ops.py:3066: to_int32 (from tensorflow.python.ops.math_ops) is deprecated and will be removed in a future version.\n",
      "Instructions for updating:\n",
      "Use tf.cast instead.\n",
      "Epoch 1/15\n",
      "371/371 [==============================] - 334s 901ms/step - loss: 1.5282 - accuracy: 0.5555 - val_loss: 0.9575 - val_accuracy: 0.6349\n",
      "Epoch 2/15\n",
      "371/371 [==============================] - 328s 884ms/step - loss: 0.9719 - accuracy: 0.6321 - val_loss: 0.6436 - val_accuracy: 0.6354\n",
      "Epoch 3/15\n",
      "371/371 [==============================] - 323s 870ms/step - loss: 0.9207 - accuracy: 0.6553 - val_loss: 1.1769 - val_accuracy: 0.6484\n",
      "Epoch 4/15\n",
      "371/371 [==============================] - 322s 867ms/step - loss: 0.8594 - accuracy: 0.6779 - val_loss: 1.0424 - val_accuracy: 0.6494\n",
      "Epoch 5/15\n",
      "371/371 [==============================] - 319s 860ms/step - loss: 0.8093 - accuracy: 0.6949 - val_loss: 0.7595 - val_accuracy: 0.6642\n",
      "Epoch 6/15\n",
      "371/371 [==============================] - 323s 871ms/step - loss: 0.7557 - accuracy: 0.7160 - val_loss: 0.9062 - val_accuracy: 0.6703\n",
      "Epoch 7/15\n",
      "371/371 [==============================] - 322s 868ms/step - loss: 0.7262 - accuracy: 0.7289 - val_loss: 1.1365 - val_accuracy: 0.6909\n",
      "Epoch 8/15\n",
      "371/371 [==============================] - 311s 839ms/step - loss: 0.6728 - accuracy: 0.7487 - val_loss: 1.1199 - val_accuracy: 0.6727\n",
      "Epoch 9/15\n",
      "371/371 [==============================] - 304s 819ms/step - loss: 0.6355 - accuracy: 0.7646 - val_loss: 0.7681 - val_accuracy: 0.6744\n",
      "Epoch 10/15\n",
      "371/371 [==============================] - 304s 818ms/step - loss: 0.5818 - accuracy: 0.7883 - val_loss: 0.8274 - val_accuracy: 0.6875\n",
      "Epoch 00010: early stopping\n"
     ]
    }
   ],
   "source": [
    "es = EarlyStopping(monitor='val_loss', mode='min', verbose=1, patience=8)\n",
    "\n",
    "history = custom_vgg_model.fit_generator(generator = train_generator,\n",
    "                   steps_per_epoch = step_size_train,\n",
    "                   epochs = epc,\n",
    "                   validation_data=valid_generator,\n",
    "                   validation_steps = step_size_valid, callbacks = [es])"
   ]
  },
  {
   "cell_type": "code",
   "execution_count": 11,
   "metadata": {},
   "outputs": [],
   "source": [
    "# custom_vgg_model.save('custom_vgg_model_preproc1.h5')\n",
    "# custom_vgg_model.save_weights('Outputs-FERmodels/model_preproc1_15epc_64bsEs.h5') "
   ]
  },
  {
   "cell_type": "code",
   "execution_count": 8,
   "metadata": {},
   "outputs": [
    {
     "name": "stdout",
     "output_type": "stream",
     "text": [
      "dict_keys(['val_loss', 'val_accuracy', 'loss', 'accuracy'])\n"
     ]
    },
    {
     "data": {
      "image/png": "[encoded data removed]",
      "text/plain": [
       "<Figure size 576x576 with 2 Axes>"
      ]
     },
     "metadata": {
      "needs_background": "light"
     },
     "output_type": "display_data"
    }
   ],
   "source": [
    "\n",
    "import matplotlib.pyplot as plt\n",
    "%matplotlib inline\n",
    "\n",
    "print(history.history.keys())\n",
    "acc = history.history['accuracy']\n",
    "val_acc = history.history['val_accuracy']\n",
    "\n",
    "loss = history.history['loss']\n",
    "val_loss = history.history['val_loss']\n",
    "\n",
    "plt.figure(figsize=(8, 8))\n",
    "plt.subplot(2, 1, 1)\n",
    "plt.plot(acc, label='Training Accuracy')\n",
    "plt.plot(val_acc, label='Validation Accuracy')\n",
    "plt.legend(loc='lower right')\n",
    "plt.ylabel('Accuracy')\n",
    "plt.ylim([min(plt.ylim()),1])\n",
    "plt.title('Training and Validation Accuracy')\n",
    "\n",
    "plt.subplot(2, 1, 2)\n",
    "plt.plot(loss, label='Training Loss')\n",
    "plt.plot(val_loss, label='Validation Loss')\n",
    "plt.legend(loc='upper right')\n",
    "plt.ylabel('Cross Entropy')\n",
    "\n",
    "plt.title('Training and Validation Loss')\n",
    "plt.xlabel('epoch')\n",
    "plt.show()"
   ]
  },
  {
   "cell_type": "code",
   "execution_count": 10,
   "metadata": {},
   "outputs": [],
   "source": [
    "custom_vgg_model = keras.models.load_model('custom_vgg_model_preproc1.h5', compile = False)"
   ]
  },
  {
   "cell_type": "code",
   "execution_count": 11,
   "metadata": {},
   "outputs": [
    {
     "name": "stdout",
     "output_type": "stream",
     "text": [
      "Found 2963 images belonging to 6 classes.\n",
      "[0 0 2 ... 4 5 5]\n",
      "[[275   2  42  35 123  14]\n",
      " [ 12  35   5   0   3   0]\n",
      " [ 63   3 225  34 151  52]\n",
      " [ 25   0  13 772  49  20]\n",
      " [ 68   0  54  57 406   9]\n",
      " [ 13   0  41  23  16 323]]\n"
     ]
    }
   ],
   "source": [
    "##setup test \n",
    "\n",
    "from sklearn.metrics import classification_report, confusion_matrix\n",
    "test_dir = \"FERdataset/Data_FER_6classes/PrivateTest\"\n",
    "test_generator = test_datagen.flow_from_directory(\n",
    "        test_dir,\n",
    "        target_size=(224, 224),\n",
    "        color_mode=\"rgb\",\n",
    "        shuffle = False,\n",
    "        class_mode='categorical',\n",
    "        batch_size=1)\n",
    "\n",
    "filenames = test_generator.filenames\n",
    "nb_samples = len(filenames)\n",
    "predict = custom_vgg_model.predict_generator(test_generator, steps = nb_samples)\n",
    "y_pred = np.argmax(predict, axis=1)\n",
    "print(y_pred)\n",
    "print(confusion_matrix(test_generator.classes, y_pred))"
   ]
  },
  {
   "cell_type": "code",
   "execution_count": 12,
   "metadata": {},
   "outputs": [
    {
     "name": "stdout",
     "output_type": "stream",
     "text": [
      "              precision    recall  f1-score   support\n",
      "\n",
      "       anger       0.60      0.56      0.58       491\n",
      "     disgust       0.88      0.64      0.74        55\n",
      "        fear       0.59      0.43      0.50       528\n",
      "   happiness       0.84      0.88      0.86       879\n",
      "     sadness       0.54      0.68      0.61       594\n",
      "    surprise       0.77      0.78      0.77       416\n",
      "\n",
      "    accuracy                           0.69      2963\n",
      "   macro avg       0.70      0.66      0.68      2963\n",
      "weighted avg       0.69      0.69      0.68      2963\n",
      "\n"
     ]
    }
   ],
   "source": [
    "target_names = ['anger', 'disgust','fear', 'happiness', 'sadness', 'surprise']\n",
    "print(classification_report(test_generator.classes, y_pred, target_names=target_names))"
   ]
  },
  {
   "cell_type": "code",
   "execution_count": 16,
   "metadata": {},
   "outputs": [
    {
     "name": "stdout",
     "output_type": "stream",
     "text": [
      "[[275   2  42  35 123  14]\n",
      " [ 12  35   5   0   3   0]\n",
      " [ 63   3 225  34 151  52]\n",
      " [ 25   0  13 772  49  20]\n",
      " [ 68   0  54  57 406   9]\n",
      " [ 13   0  41  23  16 323]]\n",
      "           anger  disgust  fear  happiness  sadness  surprise\n",
      "anger       0.56     0.00  0.09       0.07     0.25      0.03\n",
      "disgust     0.22     0.64  0.09       0.00     0.05      0.00\n",
      "fear        0.12     0.01  0.43       0.06     0.29      0.10\n",
      "happiness   0.03     0.00  0.01       0.88     0.06      0.02\n",
      "sadness     0.11     0.00  0.09       0.10     0.68      0.02\n",
      "surprise    0.03     0.00  0.10       0.06     0.04      0.78\n"
     ]
    },
    {
     "ename": "AttributeError",
     "evalue": "module 'matplotlib' has no attribute 'figure'",
     "output_type": "error",
     "traceback": [
      "\u001b[0;31m---------------------------------------------------------------------------\u001b[0m",
      "\u001b[0;31mAttributeError\u001b[0m                            Traceback (most recent call last)",
      "\u001b[0;32m<ipython-input-16-216fd9183310>\u001b[0m in \u001b[0;36m<module>\u001b[0;34m\u001b[0m\n\u001b[1;32m     12\u001b[0m \u001b[0mprint\u001b[0m\u001b[0;34m(\u001b[0m\u001b[0mcon_mat_df\u001b[0m\u001b[0;34m)\u001b[0m\u001b[0;34m\u001b[0m\u001b[0;34m\u001b[0m\u001b[0m\n\u001b[1;32m     13\u001b[0m \u001b[0;34m\u001b[0m\u001b[0m\n\u001b[0;32m---> 14\u001b[0;31m \u001b[0mfigure\u001b[0m \u001b[0;34m=\u001b[0m \u001b[0mplt\u001b[0m\u001b[0;34m.\u001b[0m\u001b[0mfigure\u001b[0m\u001b[0;34m(\u001b[0m\u001b[0mfigsize\u001b[0m\u001b[0;34m=\u001b[0m\u001b[0;34m(\u001b[0m\u001b[0;36m6\u001b[0m\u001b[0;34m,\u001b[0m \u001b[0;36m6\u001b[0m\u001b[0;34m)\u001b[0m\u001b[0;34m)\u001b[0m\u001b[0;34m\u001b[0m\u001b[0;34m\u001b[0m\u001b[0m\n\u001b[0m\u001b[1;32m     15\u001b[0m \u001b[0msns\u001b[0m\u001b[0;34m.\u001b[0m\u001b[0mheatmap\u001b[0m\u001b[0;34m(\u001b[0m\u001b[0mcon_mat_df\u001b[0m\u001b[0;34m,\u001b[0m \u001b[0mannot\u001b[0m\u001b[0;34m=\u001b[0m\u001b[0;32mTrue\u001b[0m\u001b[0;34m,\u001b[0m\u001b[0mcmap\u001b[0m\u001b[0;34m=\u001b[0m\u001b[0mplt\u001b[0m\u001b[0;34m.\u001b[0m\u001b[0mcm\u001b[0m\u001b[0;34m.\u001b[0m\u001b[0mBlues\u001b[0m\u001b[0;34m)\u001b[0m\u001b[0;34m\u001b[0m\u001b[0;34m\u001b[0m\u001b[0m\n\u001b[1;32m     16\u001b[0m \u001b[0;31m#sns.heatmap(con_mat_df, annot=True)\u001b[0m\u001b[0;34m\u001b[0m\u001b[0;34m\u001b[0m\u001b[0;34m\u001b[0m\u001b[0m\n",
      "\u001b[0;31mAttributeError\u001b[0m: module 'matplotlib' has no attribute 'figure'"
     ]
    }
   ],
   "source": [
    "con_mat = tf.math.confusion_matrix(labels=test_generator.classes, predictions=y_pred)\n",
    "sess = tf.Session()\n",
    "with sess.as_default():\n",
    "        print(sess.run(con_mat))\n",
    "        con_array = con_mat.eval(session=sess)\n",
    "con_mat_norm = np.around(con_array.astype('float') / con_array.sum(axis=1)[:, np.newaxis], decimals=2)\n",
    " \n",
    "con_mat_df = pd.DataFrame(con_mat_norm,\n",
    "                     index = target_names, \n",
    "                   columns = target_names)\n",
    "\n",
    "print(con_mat_df)\n",
    "\n",
    "figure = plt.figure(figsize=(6, 6))\n",
    "sns.heatmap(con_mat_df, annot=True,cmap=plt.cm.Blues)\n",
    "#sns.heatmap(con_mat_df, annot=True)\n",
    "#plt.tight_layout()\n",
    "plt.ylabel('True label')\n",
    "plt.xlabel('Predicted label')\n",
    "plt.show()"
   ]
  },
  {
   "cell_type": "code",
   "execution_count": null,
   "metadata": {},
   "outputs": [],
   "source": []
  }
 ],
 "metadata": {
  "kernelspec": {
   "display_name": "Python 3",
   "language": "python",
   "name": "python3"
  },
  "language_info": {
   "codemirror_mode": {
    "name": "ipython",
    "version": 3
   },
   "file_extension": ".py",
   "mimetype": "text/x-python",
   "name": "python",
   "nbconvert_exporter": "python",
   "pygments_lexer": "ipython3",
   "version": "3.6.9"
  }
 },
 "nbformat": 4,
 "nbformat_minor": 2
}
