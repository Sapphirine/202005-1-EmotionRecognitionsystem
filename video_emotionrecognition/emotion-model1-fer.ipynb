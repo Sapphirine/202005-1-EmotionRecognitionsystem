{
 "cells": [
  {
   "cell_type": "code",
   "execution_count": 2,
   "metadata": {},
   "outputs": [],
   "source": [
    "\n",
    "# import zipfile36 as zipfile \n",
    "# from zipfile import ZipFile\n",
    "\n",
    "# #filename = \"Data_FER.zip\"\n",
    "# with ZipFile(filename,'r') as zip:\n",
    "#     zip.extractall(path= \"FERdataset\")"
   ]
  },
  {
   "cell_type": "code",
   "execution_count": null,
   "metadata": {},
   "outputs": [],
   "source": [
    "import tensorflow as tf\n",
    "from tensorflow.keras.preprocessing.image import ImageDataGenerator\n",
    "from keras.engine import  Model\n",
    "from keras.layers import Flatten, Dense, Input, Dropout, BatchNormalization\n",
    "from keras_vggface.vggface import VGGFace\n",
    "import cv2\n",
    "import numpy as np\n",
    "import matplotlib as plt\n",
    "import dlib\n",
    "\n",
    "\n",
    "detector = dlib.get_frontal_face_detector()\n",
    "# gray = cv2.cvtColor(image, cv2.COLOR_BGR2GRAY)\n",
    "# rects = detector(gray, 2)\n",
    "# for rect in rects:\n",
    "# # extract the ROI of the *original* face, then align the face\n",
    "# # using facial landmarks\n",
    "# \t(x, y, w, h) = rect_to_bb(rect)\n",
    "# \tfaceOrig = imutils.resize(image[y:y + h, x:x + w], width=256)\n",
    "    \n",
    "# def gray_to_color(img):\n",
    "#     img = np.array(img, dtype=np.uint8)\n",
    "#     img = cv2.cvtColor(img, cv2.COLOR_GRAY2BGR)\n",
    "#     return img\n",
    "\n",
    "    \n",
    "train_datagen = ImageDataGenerator(\n",
    "        rescale=1./255,\n",
    "        shear_range=0.2,\n",
    "        zoom_range=0.2,\n",
    "        horizontal_flip=True, preprocessing_function = None)\n",
    "\n",
    "test_datagen = ImageDataGenerator(rescale=1./255)\n",
    "\n",
    "#training_path = \"FERdataset/Data_FER/Training\"\n",
    "\n",
    "train_generator = train_datagen.flow_from_directory(\n",
    "    directory= training_path,\n",
    "    target_size=(224, 224),\n",
    "    color_mode=\"rgb\",\n",
    "    batch_size=64,\n",
    "    class_mode=\"categorical\",\n",
    "    shuffle=True,\n",
    "    seed=42)\n",
    "\n",
    "#validation_path = \"/content/drive/My Drive/\"+my_dir+\"/Data_FER/PublicTest\"\n",
    "#validation_path = \"FERdataset/Data_FER/PublicTest\"\n",
    "\n",
    "valid_generator = test_datagen.flow_from_directory(\n",
    "    directory= validation_path,\n",
    "    target_size=(224, 224),\n",
    "    color_mode=\"rgb\",\n",
    "    batch_size=64,\n",
    "    class_mode=\"categorical\",\n",
    "    shuffle=True,\n",
    "    seed=42)\n",
    "\n",
    "\n"
   ]
  },
  {
   "cell_type": "code",
   "execution_count": null,
   "metadata": {},
   "outputs": [],
   "source": [
    "import matplotlib.pyplot as plt\n",
    "x,y = train_generator.next()\n",
    "print(x[0].shape)\n",
    "print(y.shape)\n",
    "# for i in range(0,1):\n",
    "#     #image = x[i]\n",
    "#     image = x[i]\n",
    "#     print(np.shape(image))\n",
    "#     plt.figure(figsize=(10,10))\n",
    "#     plt.imshow(image)\n",
    "\n"
   ]
  },
  {
   "cell_type": "code",
   "execution_count": 9,
   "metadata": {},
   "outputs": [
    {
     "data": {
      "text/plain": [
       "<matplotlib.image.AxesImage at 0x7f033727efd0>"
      ]
     },
     "execution_count": 9,
     "metadata": {},
     "output_type": "execute_result"
    },
    {
     "data": {
      "image/png": "[encoded data removed]",
      "text/plain": [
       "<Figure size 432x288 with 1 Axes>"
      ]
     },
     "metadata": {
      "needs_background": "light"
     },
     "output_type": "display_data"
    }
   ],
   "source": [
    "plt.imshow((x[0]*255).astype(np.uint8))"
   ]
  },
  {
   "cell_type": "code",
   "execution_count": null,
   "metadata": {},
   "outputs": [],
   "source": [
    "nb_class = 7\n",
    "vgg_model = VGGFace(include_top=False, input_shape=(224, 224, 3))\n",
    "last_layer = vgg_model.get_layer('pool5').output\n",
    "x = Flatten(name='flatten')(last_layer)\n",
    "#x = Dense(hidden_dim, activation='relu', name='fc6')(x)\n",
    "x = Dense(4096, activation='relu', name='fc6')(x)\n",
    "x = BatchNormalization()(x)\n",
    "x = Dropout(0.5)(x)\n",
    "x = Dense(2048, activation = 'relu', name = 'fc7')(x)\n",
    "x = BatchNormalization()(x)\n",
    "#x = Dense(hidden_dim, activation='relu', name='fc7')(x)\n",
    "out = Dense(nb_class, activation='softmax', name='fc8')(x)\n",
    "custom_vgg_model = Model(inputs = vgg_model.input, outputs = out)\n",
    "\n",
    "layer_count = 0\n",
    "for layer in custom_vgg_model.layers:\n",
    "    layer_count = layer_count+1\n",
    "for l in range(layer_count-6): #-3\n",
    "    custom_vgg_model.layers[l].trainable=False\n",
    "\n",
    "custom_vgg_model.summary()\n",
    "\n",
    "for layer in custom_vgg_model.layers:\n",
    "    print(\"{}: {}\".format(layer, layer.trainable))\n",
    " \n",
    "custom_vgg_model.compile(optimizer='Adam',loss='categorical_crossentropy',metrics=['accuracy'])\n",
    "#keras.optimizers.Adam(learning_rate=0.001, beta_1=0.9, beta_2=0.999, amsgrad=False)"
   ]
  },
  {
   "cell_type": "code",
   "execution_count": null,
   "metadata": {},
   "outputs": [],
   "source": [
    "from tensorflow.keras.layers import Dense,GlobalAveragePooling2D,Conv2D,MaxPooling2D,Flatten,Dropout,BatchNormalization\n",
    "from tensorflow.keras.applications import MobileNet\n",
    "from tensorflow.keras.preprocessing import image\n",
    "from tensorflow.keras.applications.mobilenet import preprocess_input\n",
    "from tensorflow.keras.preprocessing.image import ImageDataGenerator\n",
    "from tensorflow.keras.models import Model\n",
    "from tensorflow.keras.optimizers import Adam\n",
    "from keras.callbacks import EarlyStopping\n",
    "from tensorflow import keras\n",
    "#from utils.cifar_utils import load_data\n",
    "\n",
    "\n",
    "epc = 15 #number of epoches\n",
    "#train_datagen=ImageDataGenerator(preprocessing_function=preprocess_input) #included in our dependencies\n",
    "#train_generator = train_datagen.flow(X_train, Y_train, batch_size=bs)\n",
    "step_size_train=train_generator.n//train_generator.batch_size\n",
    "step_size_valid = valid_generator.n//valid_generator.batch_size"
   ]
  },
  {
   "cell_type": "code",
   "execution_count": null,
   "metadata": {
    "scrolled": true
   },
   "outputs": [],
   "source": [
    "es = EarlyStopping(monitor='val_loss', mode='min', verbose=1, patience=5)\n",
    "#history = model.fit(trainX, trainy, validation_data=(testX, testy), epochs=4000, verbose=0, callbacks=[es])\n",
    "\n",
    "history = custom_vgg_model.fit_generator(generator = train_generator,\n",
    "                   steps_per_epoch = step_size_train,\n",
    "                   epochs = epc,\n",
    "                   validation_data=valid_generator,\n",
    "                   validation_steps = step_size_valid, callbacks = [es])"
   ]
  },
  {
   "cell_type": "code",
   "execution_count": null,
   "metadata": {},
   "outputs": [],
   "source": [
    "#preprocessing model1_10epc_128bs.h5 - normalized (/255), hear_range=0.2, zoom_range=0.2, horizontal_flip=True\n",
    "#model1_10epc_128bs.h5 is trained with 3 dense layers after the last pooling layer in vgg with 512 (not 4096), (224X224X3 input size) no dropout or batchnorm, optimizer-adam, validation accuracy was ~64% training acc was 86%, loss=0.4 it was overfitting a lot! \n",
    "#custom_vgg_model.save_weights('Outputs-FERmodels/model1_10epc_128bs.h5')\n",
    "#custom_vgg_model.load_weights('Outputs-FERmodels/model1_10epc_128bs.h5')\n",
    "\n",
    "#model2_10epc_128bs.h5 - normalized,hear_range=0.2, zoom_range=0.2, horizontal_flip=True, 2 dense layers ( fc 6) then Dropout and fc 8 (softmax - 7 classes) - training acc 75%, validation acc = 66.5 %  loss = 0.66\n",
    "#custom_vgg_model.save_weights('Outputs-FERmodels/model2_10epc_128bs.h5')\n",
    "\n",
    "#model3_15epc_128bs.h5  dropout+ trained on 15 epochs\n",
    "#custom_vgg_model.save_weights('Outputs-FERmodels/model3_15epc_128bs.h5')\n",
    "\n",
    "#custom_vgg_model.save_weights('Outputs-FERmodels/model4_25epc_128bsEs.h5') - 87% train acc, val acc 65%\n",
    "#custom_vgg_model.save_weights('Outputs-FERmodels/model5_15epc_128bsEs.h5') - 86% train acc, val acc 65%\n",
    "\n",
    "\n",
    "#Most recent model \n",
    "# model 6 - after the flatten layer - \n",
    "# x = Dense(4096, activation='relu', name='fc6')(x)\n",
    "# x = BatchNormalization()(x)\n",
    "# x = Dropout(0.5)(x)\n",
    "# x = Dense(2048, activation = 'relu', name = 'fc7')(x)\n",
    "# x = BatchNormalization()(x)\n",
    "#custom_vgg_model.save_weights('Outputs-FERmodels/model6_15epc_64bsEs.h5') \n",
    "#70.5% train acc, val acc 64.2%\n",
    "\n",
    "\n"
   ]
  },
  {
   "cell_type": "code",
   "execution_count": null,
   "metadata": {},
   "outputs": [],
   "source": [
    "# custom_vgg_model.save('custom_vgg_model.h5')\n",
    "\n",
    "custom_vgg_model.save('custom_vgg_model6.h5')\n",
    "# custom_vgg_model = keras.models.load_model('custom_vgg_model.h5', compile = False)\n",
    "# custom_vgg_model.summary()"
   ]
  },
  {
   "cell_type": "code",
   "execution_count": null,
   "metadata": {},
   "outputs": [],
   "source": [
    "#custom_vgg_model.save('custom_vgg_model1.h5')\n",
    "custom_vgg_model = keras.models.load_model('custom_vgg_model6.h5', compile = False)\n",
    "custom_vgg_model.summary()"
   ]
  },
  {
   "cell_type": "code",
   "execution_count": null,
   "metadata": {},
   "outputs": [],
   "source": [
    "import keras\n",
    "x,y = train_generator.next()\n",
    "new_model = keras.models.load_model('custom_vgg_model6.h5')\n",
    "new_model.layers.pop()\n",
    "new_model = Model(inputs=new_model.inputs, outputs=new_model.layers[-1].output)\n",
    "new_model.summary()\n"
   ]
  },
  {
   "cell_type": "code",
   "execution_count": null,
   "metadata": {},
   "outputs": [],
   "source": [
    "print(x.shape)\n",
    "def process_frame(queue):\n",
    "    batchImages = np.stack(queue)\n",
    "    #print(np.shape(batchImages))\n",
    "    features = new_model.predict(batchImages)\n",
    "    #print(np.shape(features))\n",
    "    return features\n",
    "\n",
    "process_frame(x)"
   ]
  },
  {
   "cell_type": "code",
   "execution_count": null,
   "metadata": {},
   "outputs": [],
   "source": [
    "#custom_vgg_model.load_weights('Outputs-FERmodels/model2_10epc_128bs.h5')\n",
    "import matplotlib.pyplot as plt\n",
    "%matplotlib inline\n",
    "#print(f'Baseline accuracy: {custom_vgg_model.evaluate(X_valid, Y_valid)[1]}')\n",
    "\n",
    "print(history.history.keys())\n",
    "acc = history.history['accuracy']\n",
    "val_acc = history.history['val_accuracy']\n",
    "\n",
    "loss = history.history['loss']\n",
    "val_loss = history.history['val_loss']\n",
    "\n",
    "plt.figure(figsize=(8, 8))\n",
    "plt.subplot(2, 1, 1)\n",
    "plt.plot(acc, label='Training Accuracy')\n",
    "plt.plot(val_acc, label='Validation Accuracy')\n",
    "plt.legend(loc='lower right')\n",
    "plt.ylabel('Accuracy')\n",
    "plt.ylim([min(plt.ylim()),1])\n",
    "plt.title('Training and Validation Accuracy')\n",
    "\n",
    "plt.subplot(2, 1, 2)\n",
    "plt.plot(loss, label='Training Loss')\n",
    "plt.plot(val_loss, label='Validation Loss')\n",
    "plt.legend(loc='upper right')\n",
    "plt.ylabel('Cross Entropy')\n",
    "\n",
    "plt.title('Training and Validation Loss')\n",
    "plt.xlabel('epoch')\n",
    "plt.show()"
   ]
  },
  {
   "cell_type": "code",
   "execution_count": null,
   "metadata": {},
   "outputs": [],
   "source": []
  }
 ],
 "metadata": {
  "kernelspec": {
   "display_name": "Python 3",
   "language": "python",
   "name": "python3"
  },
  "language_info": {
   "codemirror_mode": {
    "name": "ipython",
    "version": 3
   },
   "file_extension": ".py",
   "mimetype": "text/x-python",
   "name": "python",
   "nbconvert_exporter": "python",
   "pygments_lexer": "ipython3",
   "version": "3.6.10"
  }
 },
 "nbformat": 4,
 "nbformat_minor": 2
}
